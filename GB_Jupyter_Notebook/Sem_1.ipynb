{
 "cells": [
  {
   "cell_type": "markdown",
   "id": "080f35cb",
   "metadata": {},
   "source": [
    "## Задание 1\n",
    "### 1.1 Соедините два словаря в один"
   ]
  },
  {
   "cell_type": "code",
   "execution_count": 2,
   "id": "09e39f14",
   "metadata": {},
   "outputs": [],
   "source": [
    "dict1 = {'One': 1, 'Two': 2, 'Three': 3}\n",
    "dict2 = {'Four': 4, 'Five': 5, 'Six': 6}"
   ]
  },
  {
   "cell_type": "code",
   "execution_count": 5,
   "id": "3ba9f2ea",
   "metadata": {},
   "outputs": [
    {
     "name": "stdout",
     "output_type": "stream",
     "text": [
      "{'One': 1, 'Two': 2, 'Three': 3, 'Four': 4, 'Five': 5, 'Six': 6}\n"
     ]
    }
   ],
   "source": [
    "my_dict = dict1.copy()\n",
    "my_dict.update(dict2)\n",
    "print(my_dict)"
   ]
  },
  {
   "cell_type": "code",
   "execution_count": 4,
   "id": "77519e4f",
   "metadata": {},
   "outputs": [
    {
     "data": {
      "text/plain": [
       "{'One': 1, 'Two': 2, 'Three': 3, 'Four': 4, 'Five': 5, 'Six': 6}"
      ]
     },
     "execution_count": 4,
     "metadata": {},
     "output_type": "execute_result"
    }
   ],
   "source": [
    "my_dict = dict1|dict2\n",
    "my_dict"
   ]
  },
  {
   "cell_type": "code",
   "execution_count": 3,
   "id": "0cb02064",
   "metadata": {},
   "outputs": [
    {
     "data": {
      "text/plain": [
       "{'One': 1, 'Two': 2, 'Three': 3, 'Four': 4, 'Five': 5, 'Six': 6}"
      ]
     },
     "execution_count": 3,
     "metadata": {},
     "output_type": "execute_result"
    }
   ],
   "source": [
    "my_dict = {**dict1, **dict2}\n",
    "my_dict"
   ]
  },
  {
   "cell_type": "markdown",
   "id": "6943e648",
   "metadata": {},
   "source": [
    "### 1.2 Напишите функцию, которая на вход принимает два словаря и возвращает один объединенный словарь\n",
    "Используйте аннотирование типов"
   ]
  },
  {
   "cell_type": "code",
   "execution_count": null,
   "id": "8511bcde",
   "metadata": {},
   "outputs": [],
   "source": [
    "def merge_dict(d1: dict, d2: dict) -> dict:\n",
    "    new_dict = dict(d1)\n",
    "    for key, value in d2.items():\n",
    "        new_dict[key] = value\n",
    "    return new_dict"
   ]
  },
  {
   "cell_type": "code",
   "execution_count": 27,
   "id": "77b69a1c",
   "metadata": {
    "scrolled": true
   },
   "outputs": [
    {
     "data": {
      "text/plain": [
       "{'One': 1, 'Two': 2, 'Three': 3, 'Four': 4, 'Five': 5, 'Six': 6}"
      ]
     },
     "execution_count": 27,
     "metadata": {},
     "output_type": "execute_result"
    }
   ],
   "source": [
    "merge_dict(dict1, dict2)"
   ]
  },
  {
   "cell_type": "markdown",
   "id": "36d8f705",
   "metadata": {},
   "source": [
    "## Задание 2\n",
    "### Напишите функцию, которая из двух списков, делает один словарь, где элементы из первого списка - ключи, а элементы из второго списка - значения\n",
    "\n"
   ]
  },
  {
   "cell_type": "code",
   "execution_count": 46,
   "id": "6f95ed34",
   "metadata": {},
   "outputs": [],
   "source": [
    "keys = ['One', 'Two', 'Three']\n",
    "values = [1, 2, 3]"
   ]
  },
  {
   "cell_type": "code",
   "execution_count": 47,
   "id": "df91ab93",
   "metadata": {},
   "outputs": [
    {
     "data": {
      "text/plain": [
       "[('One', 1, 123), ('Two', 2, 234), ('Three', 3, 245)]"
      ]
     },
     "execution_count": 47,
     "metadata": {},
     "output_type": "execute_result"
    }
   ],
   "source": [
    "list1 = [123,234,245]\n",
    "list(zip(keys, values, list1))"
   ]
  },
  {
   "cell_type": "code",
   "execution_count": 48,
   "id": "63c36dbd",
   "metadata": {},
   "outputs": [],
   "source": [
    "dict3 = dict(zip(keys, values))"
   ]
  },
  {
   "cell_type": "code",
   "execution_count": 42,
   "id": "d232bd7a",
   "metadata": {},
   "outputs": [],
   "source": [
    "def create_dict(k, v) -> dict:\n",
    "    new_dict = {}\n",
    "    for i in range(len(k)):\n",
    "        new_dict [k[i]] = v[i]\n",
    "    return new_dict"
   ]
  },
  {
   "cell_type": "code",
   "execution_count": 49,
   "id": "37406dc9",
   "metadata": {},
   "outputs": [],
   "source": [
    "dict3 = dict(zip(keys, values))"
   ]
  },
  {
   "cell_type": "code",
   "execution_count": 39,
   "id": "817600cb",
   "metadata": {},
   "outputs": [],
   "source": []
  },
  {
   "cell_type": "markdown",
   "id": "9bc83545",
   "metadata": {},
   "source": [
    "## 2.2 Используя dict comprehensions\n"
   ]
  },
  {
   "cell_type": "code",
   "execution_count": 50,
   "id": "aea5be6f",
   "metadata": {},
   "outputs": [
    {
     "data": {
      "text/plain": [
       "{'One': 1, 'Two': 2, 'Three': 3}"
      ]
     },
     "execution_count": 50,
     "metadata": {},
     "output_type": "execute_result"
    }
   ],
   "source": [
    "{keys[i]: values[i] for i in range(len(keys))}"
   ]
  },
  {
   "cell_type": "markdown",
   "id": "c04dac08",
   "metadata": {},
   "source": [
    "## Задание 3\n",
    "### Извлеките только два ключа name и age из представленного словаря"
   ]
  },
  {
   "cell_type": "markdown",
   "id": "c26bf95a",
   "metadata": {},
   "source": [
    "## 3.1 Напишите функцию с циклом for\n",
    "### Функция на вход принимает: исходный словарь\n",
    "### ключи, которые нужно извлечь (аргумент по умолчанию)\n",
    "### На выходе словарь с нужными ключами\n",
    "### Используйте аннотирование типов\n"
   ]
  },
  {
   "cell_type": "code",
   "execution_count": 55,
   "id": "b2b0653a",
   "metadata": {},
   "outputs": [],
   "source": [
    "client_dict = {\n",
    "\t\"name\": \"John\",\n",
    "\t\"age\": 25,\n",
    "\t\"salary\": 5000,\n",
    "\t\"city\": \"Moscow\"\n",
    "}"
   ]
  },
  {
   "cell_type": "code",
   "execution_count": 66,
   "id": "3ace1373",
   "metadata": {},
   "outputs": [],
   "source": [
    "def new_dict(dict1: dict, keys: list=['name','age']) -> dict:\n",
    "    dict2= {}\n",
    "    for key in keys:\n",
    "        dict2[key] = dict1[key]\n",
    "    return dict2"
   ]
  },
  {
   "cell_type": "code",
   "execution_count": 67,
   "id": "c629fe2d",
   "metadata": {},
   "outputs": [
    {
     "data": {
      "text/plain": [
       "{'name': 'John', 'age': 25}"
      ]
     },
     "execution_count": 67,
     "metadata": {},
     "output_type": "execute_result"
    }
   ],
   "source": [
    "new_dict(client_dict)"
   ]
  },
  {
   "cell_type": "code",
   "execution_count": 68,
   "id": "07cabb1f",
   "metadata": {},
   "outputs": [],
   "source": [
    "### 3.2 Используя dict comprehensions"
   ]
  },
  {
   "cell_type": "code",
   "execution_count": 74,
   "id": "1cb6f135",
   "metadata": {},
   "outputs": [
    {
     "data": {
      "text/plain": [
       "{'name': 'John', 'age': 25}"
      ]
     },
     "execution_count": 74,
     "metadata": {},
     "output_type": "execute_result"
    }
   ],
   "source": [
    "new_dict = {key: client_dict[key] for key in['name','age']}\n",
    "new_dict"
   ]
  },
  {
   "cell_type": "markdown",
   "id": "1f743d06",
   "metadata": {},
   "source": [
    "## Задание 4."
   ]
  },
  {
   "cell_type": "markdown",
   "id": "9a1b3a06",
   "metadata": {},
   "source": [
    "## Задание 4. 4.1 Сгенерируйте случайные целые числа от 0 до 100 в количестве 5 штук с помощью модуля random\n",
    "### Зафиксируйте псевдогенерацию, чтобы сгенерированные значения всегда были одинаковые\n",
    "### Используйте list comprehensions"
   ]
  },
  {
   "cell_type": "code",
   "execution_count": 91,
   "id": "d381cf33",
   "metadata": {},
   "outputs": [],
   "source": [
    "import random"
   ]
  },
  {
   "cell_type": "code",
   "execution_count": 92,
   "id": "7007bc3a",
   "metadata": {},
   "outputs": [
    {
     "data": {
      "text/plain": [
       "[18, 58, 58, 98, 22]"
      ]
     },
     "execution_count": 92,
     "metadata": {},
     "output_type": "execute_result"
    }
   ],
   "source": [
    "random.seed(100)\n",
    "numbers = [random.randint(0, 100) for _ in range(5)]\n",
    "numbers"
   ]
  },
  {
   "cell_type": "markdown",
   "id": "7a9c492d",
   "metadata": {},
   "source": [
    "## 4.2 Напишите генератор\n",
    "🌟 Генератор на вход принимает список с данными о клиенте (данные\n",
    "из пункта 4.1)\n",
    "🌟 Внутри генератора реализуйте обход по списку с данными\n",
    "На каждой итерации генератор будет возвращать кортеж из двух\n",
    "элементов:\n",
    "- 1. данные по клиенту (в зависимости от итерации, на 0 итерации\n",
    "вернется 0 элемент, на 1 итерации вернется 1 элемент и тд)\n",
    "- 2. целочисленное значение, которое показывает, сколько секунд прошло с предыдущей итерации\n",
    "\n",
    "Примечание: секунды, которые возвращаются должны показывать время не с начала запуска генератора, а именно то время, которое прошло с предыдущей итерации. А значит время на первой итерации должно равняться 0.\n",
    "\n",
    "🌟 Используйте функцию time из модуля time для подсчета времени.\n",
    "🌟 Чтобы проверить работу таймера, запустите проход по\n",
    "генератору в цикле с time.sleep(2)"
   ]
  },
  {
   "cell_type": "code",
   "execution_count": 136,
   "id": "12365363",
   "metadata": {},
   "outputs": [],
   "source": [
    "import time"
   ]
  },
  {
   "cell_type": "code",
   "execution_count": 137,
   "id": "1ff9d956",
   "metadata": {},
   "outputs": [],
   "source": [
    "def generator(nums: list) -> tuple:\n",
    "    last_time = time.time()\n",
    "    for num in nums:\n",
    "        current_time = time.time()\n",
    "        print(current_time)\n",
    "        yield num, int(current_time - last_time)\n",
    "        last_time = current_time\n",
    "        time.sleep(2)"
   ]
  },
  {
   "cell_type": "code",
   "execution_count": 138,
   "id": "0059f124",
   "metadata": {},
   "outputs": [
    {
     "name": "stdout",
     "output_type": "stream",
     "text": [
      "1697573680.7307956\n",
      "(18, 0)\n",
      "1697573682.7312307\n",
      "(58, 2)\n",
      "1697573684.7316165\n",
      "(58, 2)\n",
      "1697573686.7323403\n",
      "(98, 2)\n",
      "1697573688.7331462\n",
      "(22, 2)\n"
     ]
    }
   ],
   "source": [
    "for t in  generator(numbers):\n",
    "    print(t)"
   ]
  },
  {
   "cell_type": "markdown",
   "id": "dce33e5e",
   "metadata": {},
   "source": [
    "## Задание 5. \n",
    "#### 5.1 Найдите картинку в интернете и прикрепите её в ячейку с текстом\n",
    "#### 5.2 Создайте следующую таблицу в ячейке с текстом"
   ]
  },
  {
   "cell_type": "markdown",
   "id": "3162c2d5",
   "metadata": {},
   "source": [
    "<img src=https://w.forfun.com/fetch/03/03f8cd3f6796daaacc1fe43ffb7704b7.jpeg width=300> "
   ]
  },
  {
   "cell_type": "markdown",
   "id": "cbea91aa",
   "metadata": {},
   "source": [
    "<table>\n",
    "    <tr>\n",
    "    <td> </td>\n",
    "    <td> ДО </td>\n",
    "    <td> Во время </td> \n",
    "    </tr>\n",
    "    <tr>\n",
    "    <td> 1 точка </td>\n",
    "    <td> 250 </td>\n",
    "    <td> 500 </td> \n",
    "    </tr>\n",
    "        <tr>\n",
    "    <td> 2 точка </td>\n",
    "    <td> 350 </td>\n",
    "    <td> 700 </td> \n",
    "    </tr>\n",
    "        <tr>\n",
    "    <td> 3 точка </td>\n",
    "    <td> 400 </td>\n",
    "    <td> 800 </td> \n",
    "    </tr>\n",
    "        <tr>\n",
    "    <td> Итого </td>\n",
    "    <td> 1000 </td>\n",
    "    <td> 2000 </td> \n",
    "    </tr>\n",
    "</table>"
   ]
  },
  {
   "cell_type": "markdown",
   "id": "dab4433c",
   "metadata": {},
   "source": [
    "| Column 1 | Column 2 | Column 3 |\n",
    "|----------|----------|----------|\n",
    "| Row 1    | Cell 2   | Cell 3   |\n",
    "| Row 2    | Cell 5   | Cell 6   |\n",
    "| Row 3    | Cell 8   | Cell 9   |"
   ]
  },
  {
   "cell_type": "markdown",
   "id": "a8ebf022",
   "metadata": {},
   "source": [
    "## Задание 6\n",
    "###  Напишите функцию, которая может принимать любое количество трат пользователя и считать сумму и среднее.\n",
    "- На вход поступают целочисленные значения в любом количестве\n",
    "- На выходе словарь с ключами суммы трат и средней траты"
   ]
  },
  {
   "cell_type": "code",
   "execution_count": 151,
   "id": "f8793fdd",
   "metadata": {},
   "outputs": [],
   "source": [
    "def shoping(*args):\n",
    "    summa = sum(args)\n",
    "    length = len(args)\n",
    "    return{'Сумма':summa, 'Средняя': summa/length}"
   ]
  },
  {
   "cell_type": "code",
   "execution_count": 152,
   "id": "85478d0a",
   "metadata": {},
   "outputs": [
    {
     "data": {
      "text/plain": [
       "{'Сумма': 5562222, 'Средняя': 1112444.4}"
      ]
     },
     "execution_count": 152,
     "metadata": {},
     "output_type": "execute_result"
    }
   ],
   "source": [
    "shoping(1000, 2000, 3000, 4000,5552222)"
   ]
  },
  {
   "cell_type": "code",
   "execution_count": 153,
   "id": "c74a0ebd",
   "metadata": {},
   "outputs": [],
   "source": [
    "def shoping(**kwargs):\n",
    "    print(kwargs)"
   ]
  },
  {
   "cell_type": "code",
   "execution_count": 154,
   "id": "96016037",
   "metadata": {},
   "outputs": [
    {
     "name": "stdout",
     "output_type": "stream",
     "text": [
      "{'box': 1000, 'banans': 2000, 'figna': 3000, 'dick': 4000, 'xren': 5552222}\n"
     ]
    }
   ],
   "source": [
    "shoping(box=1000, banans=2000, figna= 3000, dick=4000, xren=5552222)"
   ]
  },
  {
   "cell_type": "code",
   "execution_count": null,
   "id": "33055a9c",
   "metadata": {},
   "outputs": [],
   "source": []
  }
 ],
 "metadata": {
  "kernelspec": {
   "display_name": "Python 3 (ipykernel)",
   "language": "python",
   "name": "python3"
  },
  "language_info": {
   "codemirror_mode": {
    "name": "ipython",
    "version": 3
   },
   "file_extension": ".py",
   "mimetype": "text/x-python",
   "name": "python",
   "nbconvert_exporter": "python",
   "pygments_lexer": "ipython3",
   "version": "3.11.5"
  }
 },
 "nbformat": 4,
 "nbformat_minor": 5
}
